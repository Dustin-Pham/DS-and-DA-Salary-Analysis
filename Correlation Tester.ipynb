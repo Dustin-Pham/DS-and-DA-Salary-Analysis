{
 "cells": [
  {
   "cell_type": "markdown",
   "id": "9d241575",
   "metadata": {},
   "source": [
    "### Prep Data"
   ]
  },
  {
   "cell_type": "code",
   "execution_count": 26,
   "id": "ae43e8e2",
   "metadata": {},
   "outputs": [
    {
     "name": "stdout",
     "output_type": "stream",
     "text": [
      "packages imported\n"
     ]
    }
   ],
   "source": [
    "import pandas as pd\n",
    "import numpy as np\n",
    "\n",
    "print ('packages imported')"
   ]
  },
  {
   "cell_type": "code",
   "execution_count": 61,
   "id": "6a1a3acf",
   "metadata": {},
   "outputs": [
    {
     "name": "stdout",
     "output_type": "stream",
     "text": [
      "/Users/dustin/SQL/Project 2\n"
     ]
    }
   ],
   "source": [
    "import os\n",
    "\n",
    "wd = os.getcwd ()\n",
    "print (wd)"
   ]
  },
  {
   "cell_type": "code",
   "execution_count": 62,
   "id": "25fc8bbb",
   "metadata": {},
   "outputs": [
    {
     "name": "stdout",
     "output_type": "stream",
     "text": [
      "data imported!\n"
     ]
    }
   ],
   "source": [
    "data = '/Users/dustin/SQL/Project 2/ds_salaries.csv'\n",
    "df = pd.read_csv(data)\n",
    "\n",
    "print ('data imported!')"
   ]
  },
  {
   "cell_type": "code",
   "execution_count": 63,
   "id": "70a16dd6",
   "metadata": {},
   "outputs": [
    {
     "data": {
      "text/html": [
       "<div>\n",
       "<style scoped>\n",
       "    .dataframe tbody tr th:only-of-type {\n",
       "        vertical-align: middle;\n",
       "    }\n",
       "\n",
       "    .dataframe tbody tr th {\n",
       "        vertical-align: top;\n",
       "    }\n",
       "\n",
       "    .dataframe thead th {\n",
       "        text-align: right;\n",
       "    }\n",
       "</style>\n",
       "<table border=\"1\" class=\"dataframe\">\n",
       "  <thead>\n",
       "    <tr style=\"text-align: right;\">\n",
       "      <th></th>\n",
       "      <th>id</th>\n",
       "      <th>work_year</th>\n",
       "      <th>experience_level</th>\n",
       "      <th>employment_type</th>\n",
       "      <th>job_title</th>\n",
       "      <th>salary</th>\n",
       "      <th>salary_currency</th>\n",
       "      <th>salary_in_usd</th>\n",
       "      <th>employee_residence</th>\n",
       "      <th>remote_ratio</th>\n",
       "      <th>company_location</th>\n",
       "      <th>company_size</th>\n",
       "      <th>n_work_experience</th>\n",
       "      <th>n_employment_type</th>\n",
       "      <th>n_company_size</th>\n",
       "    </tr>\n",
       "  </thead>\n",
       "  <tbody>\n",
       "    <tr>\n",
       "      <th>0</th>\n",
       "      <td>0</td>\n",
       "      <td>2020</td>\n",
       "      <td>MI</td>\n",
       "      <td>FT</td>\n",
       "      <td>Data Scientist</td>\n",
       "      <td>70000</td>\n",
       "      <td>EUR</td>\n",
       "      <td>79833</td>\n",
       "      <td>DE</td>\n",
       "      <td>0</td>\n",
       "      <td>DE</td>\n",
       "      <td>L</td>\n",
       "      <td>1</td>\n",
       "      <td>3</td>\n",
       "      <td>3</td>\n",
       "    </tr>\n",
       "    <tr>\n",
       "      <th>1</th>\n",
       "      <td>1</td>\n",
       "      <td>2020</td>\n",
       "      <td>SE</td>\n",
       "      <td>FT</td>\n",
       "      <td>Machine Learning Scientist</td>\n",
       "      <td>260000</td>\n",
       "      <td>USD</td>\n",
       "      <td>260000</td>\n",
       "      <td>JP</td>\n",
       "      <td>0</td>\n",
       "      <td>JP</td>\n",
       "      <td>S</td>\n",
       "      <td>2</td>\n",
       "      <td>3</td>\n",
       "      <td>1</td>\n",
       "    </tr>\n",
       "    <tr>\n",
       "      <th>2</th>\n",
       "      <td>2</td>\n",
       "      <td>2020</td>\n",
       "      <td>SE</td>\n",
       "      <td>FT</td>\n",
       "      <td>Big Data Engineer</td>\n",
       "      <td>85000</td>\n",
       "      <td>GBP</td>\n",
       "      <td>109024</td>\n",
       "      <td>GB</td>\n",
       "      <td>50</td>\n",
       "      <td>GB</td>\n",
       "      <td>M</td>\n",
       "      <td>2</td>\n",
       "      <td>3</td>\n",
       "      <td>2</td>\n",
       "    </tr>\n",
       "    <tr>\n",
       "      <th>3</th>\n",
       "      <td>3</td>\n",
       "      <td>2020</td>\n",
       "      <td>MI</td>\n",
       "      <td>FT</td>\n",
       "      <td>Product Data Analyst</td>\n",
       "      <td>20000</td>\n",
       "      <td>USD</td>\n",
       "      <td>20000</td>\n",
       "      <td>HN</td>\n",
       "      <td>0</td>\n",
       "      <td>HN</td>\n",
       "      <td>S</td>\n",
       "      <td>1</td>\n",
       "      <td>3</td>\n",
       "      <td>1</td>\n",
       "    </tr>\n",
       "    <tr>\n",
       "      <th>4</th>\n",
       "      <td>4</td>\n",
       "      <td>2020</td>\n",
       "      <td>SE</td>\n",
       "      <td>FT</td>\n",
       "      <td>Machine Learning Engineer</td>\n",
       "      <td>150000</td>\n",
       "      <td>USD</td>\n",
       "      <td>150000</td>\n",
       "      <td>US</td>\n",
       "      <td>50</td>\n",
       "      <td>US</td>\n",
       "      <td>L</td>\n",
       "      <td>2</td>\n",
       "      <td>3</td>\n",
       "      <td>3</td>\n",
       "    </tr>\n",
       "  </tbody>\n",
       "</table>\n",
       "</div>"
      ],
      "text/plain": [
       "   id  work_year experience_level employment_type                   job_title  \\\n",
       "0   0       2020               MI              FT              Data Scientist   \n",
       "1   1       2020               SE              FT  Machine Learning Scientist   \n",
       "2   2       2020               SE              FT           Big Data Engineer   \n",
       "3   3       2020               MI              FT        Product Data Analyst   \n",
       "4   4       2020               SE              FT   Machine Learning Engineer   \n",
       "\n",
       "   salary salary_currency  salary_in_usd employee_residence  remote_ratio  \\\n",
       "0   70000             EUR          79833                 DE             0   \n",
       "1  260000             USD         260000                 JP             0   \n",
       "2   85000             GBP         109024                 GB            50   \n",
       "3   20000             USD          20000                 HN             0   \n",
       "4  150000             USD         150000                 US            50   \n",
       "\n",
       "  company_location company_size  n_work_experience  n_employment_type  \\\n",
       "0               DE            L                  1                  3   \n",
       "1               JP            S                  2                  3   \n",
       "2               GB            M                  2                  3   \n",
       "3               HN            S                  1                  3   \n",
       "4               US            L                  2                  3   \n",
       "\n",
       "   n_company_size  \n",
       "0               3  \n",
       "1               1  \n",
       "2               2  \n",
       "3               1  \n",
       "4               3  "
      ]
     },
     "execution_count": 63,
     "metadata": {},
     "output_type": "execute_result"
    }
   ],
   "source": [
    "df.head()"
   ]
  },
  {
   "cell_type": "code",
   "execution_count": 64,
   "id": "74962588",
   "metadata": {},
   "outputs": [
    {
     "name": "stdout",
     "output_type": "stream",
     "text": [
      "Columns Dropped!\n"
     ]
    }
   ],
   "source": [
    "df.drop(['id', 'salary_currency', 'salary'], axis = 1, inplace= True)\n",
    "\n",
    "print ('Columns Dropped!')"
   ]
  },
  {
   "cell_type": "code",
   "execution_count": 95,
   "id": "c16083e6",
   "metadata": {},
   "outputs": [
    {
     "name": "stdout",
     "output_type": "stream",
     "text": [
      "['Data Scientist', 'Machine Learning Scientist', 'Big Data Engineer', 'Product Data Analyst', 'Machine Learning Engineer', 'Data Analyst', 'Lead Data Scientist', 'Data Scientist', 'Business Data Analyst', 'Lead Data Engineer', 'Data Scientist', 'Data Scientist', 'Data Scientist', 'Lead Data Analyst', 'Data Analyst', 'Data Analyst', 'Data Engineer', 'Big Data Engineer', 'Data Science Consultant', 'Lead Data Engineer', 'Machine Learning Engineer', 'Product Data Analyst', 'Data Engineer', 'BI Data Analyst', 'Lead Data Scientist', 'Director of Data Science', 'Research Scientist', 'Data Engineer', 'Business Data Analyst', 'Machine Learning Manager', 'Data Engineering Manager', 'Big Data Engineer', 'Data Scientist', 'Research Scientist', 'Data Analyst', 'Data Engineer', 'Data Science Consultant', 'Machine Learning Engineer', 'Data Analyst', 'Machine Learning Engineer', 'Data Scientist', 'Data Engineering Manager', 'Machine Learning Infrastructure Engineer', 'Data Engineer', 'Data Engineer', 'ML Engineer', 'Data Scientist', 'Data Engineer', 'Data Scientist', 'Data Engineer', 'Data Analyst', 'Data Analyst', 'AI Scientist', 'Data Engineer', 'Computer Vision Engineer', 'Principal Data Scientist', 'Data Scientist', 'Data Scientist', 'Data Scientist', 'Data Scientist', 'Data Engineer', 'Data Engineer', 'Data Scientist', 'Data Scientist', 'Machine Learning Engineer', 'Data Scientist', 'Data Scientist', 'Data Science Manager', 'Data Scientist', 'Data Scientist', 'Data Scientist', 'Data Scientist', 'Research Scientist', 'BI Data Analyst', 'Head of Data', 'Data Scientist', 'BI Data Analyst', '3D Computer Vision Researcher', 'ML Engineer', 'Data Analyst', 'Data Analytics Engineer', 'Data Engineer', 'Applied Data Scientist', 'Machine Learning Engineer', 'Director of Data Science', 'Data Engineer', 'Data Analyst', 'Data Analytics Engineer', 'Lead Data Analyst', 'Data Analyst', 'Marketing Data Analyst', 'Data Science Consultant', 'Lead Data Analyst', 'Lead Data Engineer', 'Data Scientist', 'Cloud Data Engineer', 'AI Scientist', 'Financial Data Analyst', 'Computer Vision Software Engineer', 'Computer Vision Software Engineer', 'Data Analyst', 'Data Engineer', 'BI Data Analyst', 'Data Analyst', 'Data Scientist', 'Data Analyst', 'Research Scientist', 'Data Engineer', 'Data Engineer', 'Data Engineer', 'Machine Learning Engineer', 'Director of Data Engineering', 'Lead Data Engineer', 'AI Scientist', 'Data Engineer', 'Machine Learning Scientist', 'Data Scientist', 'Data Science Engineer', 'Data Analyst', 'Data Engineer', 'Big Data Engineer', 'Principal Data Engineer', 'Data Analyst', 'Applied Data Scientist', 'Data Analyst', 'Principal Data Scientist', 'Machine Learning Scientist', 'Data Scientist', 'Machine Learning Engineer', 'Lead Data Scientist', 'Machine Learning Developer', 'Data Scientist', 'Applied Machine Learning Scientist', 'Computer Vision Engineer', 'Data Scientist', 'Data Analyst', 'ML Engineer', 'ML Engineer', 'Principal Data Scientist', 'Data Scientist', 'Data Analyst', 'Data Science Manager', 'Data Engineering Manager', 'Data Scientist', 'Data Engineer', 'Machine Learning Engineer', 'Research Scientist', 'Data Engineer', 'Data Engineering Manager', 'Cloud Data Engineer', 'Director of Data Science', 'Data Scientist', 'Data Scientist', 'Data Scientist', 'Data Science Manager', 'Data Science Engineer', 'Data Scientist', 'Applied Machine Learning Scientist', 'Data Analytics Manager', 'Machine Learning Engineer', 'Head of Data', 'Head of Data Science', 'Data Engineer', 'Data Science Consultant', 'Director of Data Science', 'Data Specialist', 'Data Engineer', 'Director of Data Science', 'BI Data Analyst', 'Data Architect', 'Data Architect', 'Data Engineer', 'Data Analyst', 'Principal Data Scientist', 'Research Scientist', 'Data Engineering Manager', 'Data Scientist', 'Data Scientist', 'Machine Learning Engineer', 'Data Scientist', 'Big Data Engineer', 'Data Scientist', 'Data Engineer', 'Finance Data Analyst', 'Machine Learning Scientist', 'Data Engineer', 'Data Analytics Engineer', 'Data Science Consultant', 'Data Engineer', 'Machine Learning Engineer', 'Data Science Manager', 'Machine Learning Engineer', 'Big Data Engineer', 'Data Science Manager', 'Research Scientist', 'Data Scientist', 'BI Data Analyst', 'Machine Learning Engineer', 'Data Science Manager', 'Data Science Consultant', 'Data Scientist', 'Machine Learning Infrastructure Engineer', 'Data Scientist', 'Research Scientist', 'Data Scientist', 'Data Scientist', 'Machine Learning Engineer', 'Data Engineer', 'Data Engineer', 'Data Analytics Manager', 'Machine Learning Engineer', 'Research Scientist', 'Data Engineer', 'Big Data Engineer', 'Machine Learning Engineer', 'Principal Data Engineer', 'Computer Vision Engineer', 'Data Scientist', 'Machine Learning Engineer', 'Data Analytics Manager', 'Machine Learning Engineer', 'Data Scientist', 'Data Scientist', 'Data Scientist', 'Machine Learning Scientist', 'Principal Data Scientist', 'Data Scientist', 'Data Scientist', 'Data Scientist', 'Data Analyst', 'Big Data Engineer', 'ML Engineer', 'Director of Data Engineering', 'Data Analyst', 'Data Architect', 'Head of Data Science', 'Research Scientist', 'Data Scientist', 'Data Scientist', 'Data Engineer', 'Data Scientist', 'Data Analyst', 'Data Engineer', 'Data Scientist', 'AI Scientist', 'Data Engineer', 'Data Scientist', 'Data Engineer', 'Data Engineer', 'Principal Data Analyst', 'Data Scientist', 'Data Scientist', 'Principal Data Engineer', 'Data Scientist', 'Data Analyst', 'Big Data Architect', 'Data Engineer', 'Principal Data Scientist', 'Machine Learning Engineer', 'Director of Data Science', 'Data Scientist', 'Data Analyst', 'Data Scientist', 'Machine Learning Engineer', 'Data Scientist', 'Lead Data Engineer', 'Data Engineer', 'Data Engineer', 'Data Engineer', 'Data Engineer', 'Data Engineer', 'Computer Vision Engineer', 'Data Science Consultant', 'Machine Learning Engineer', 'Data Scientist', 'Data Scientist', 'Data Scientist', 'AI Scientist', 'Data Scientist', 'Business Data Analyst', 'Data Engineer', 'Research Scientist', 'Data Engineer', 'Staff Data Scientist', 'Research Scientist', 'Data Science Manager', 'Head of Data', 'Data Scientist', 'Machine Learning Engineer', 'Data Engineer', 'Data Analyst', 'Data Analyst', 'Data Scientist', 'Data Scientist', 'Data Engineer', 'Data Engineer', 'Data Analyst', 'Data Analyst', 'Data Scientist', 'Data Scientist', 'Data Scientist', 'Data Scientist', 'Data Scientist', 'Data Scientist', 'Data Engineer', 'Data Analyst', 'Data Analyst', 'Data Analyst', 'Data Analyst', 'Data Engineer', 'Data Engineer', 'Data Scientist', 'Data Scientist', 'Data Engineer', 'Data Engineer', 'Data Scientist', 'Data Engineer', 'Data Scientist', 'Data Analyst', 'Data Engineer', 'Data Engineer', 'Data Engineer', 'Data Engineer', 'Data Scientist', 'Data Scientist', 'Data Analyst', 'Data Analyst', 'Data Analyst', 'Data Analyst', 'Data Analyst', 'Data Analyst', 'Data Analyst', 'Data Analyst', 'Data Analyst', 'Data Engineer', 'Data Engineer', 'Data Analyst', 'Data Engineer', 'Data Analyst', 'Data Analyst', 'Data Engineer', 'Data Engineer', 'Head of Data Science', 'Head of Data Science', 'Analytics Engineer', 'Data Engineer', 'Data Engineer', 'Data Scientist', 'Data Engineer', 'Data Analyst', 'Data Science Manager', 'Data Science Manager', 'Data Scientist', 'Data Scientist', 'Data Engineer', 'Data Engineer', 'Data Scientist', 'Data Scientist', 'Data Architect', 'Data Architect', 'Data Analyst', 'Data Analyst', 'Data Analyst', 'Data Analyst', 'Data Engineer', 'Data Scientist', 'Data Engineer', 'Data Analyst', 'Analytics Engineer', 'Data Scientist', 'Data Scientist', 'Machine Learning Engineer', 'Machine Learning Engineer', 'ETL Developer', 'ETL Developer', 'Lead Data Engineer', 'Data Analyst', 'Data Engineer', 'Data Architect', 'Data Architect', 'Data Engineer', 'Data Engineer', 'Data Analyst', 'Data Analyst', 'Head of Machine Learning', 'Data Engineer', 'Machine Learning Engineer', 'Data Analyst', 'Data Engineer', 'Machine Learning Engineer', 'Machine Learning Engineer', 'AI Scientist', 'Data Analyst', 'Data Analyst', 'Data Analytics Manager', 'Data Analytics Manager', 'Machine Learning Engineer', 'Data Engineer', 'Data Scientist', 'Data Scientist', 'Data Engineer', 'Data Engineer', 'Data Analyst', 'Data Analyst', 'Data Engineer', 'Data Engineer', 'Data Analyst', 'Data Engineer', 'Data Analyst', 'Data Scientist', 'Data Scientist', 'Data Scientist', 'Data Engineer', 'Data Engineer', 'Data Engineer', 'Data Engineer', 'Data Scientist', 'Data Science Engineer', 'Data Engineer', 'Machine Learning Scientist', 'Machine Learning Scientist', 'Data Science Manager', 'Data Science Manager', 'Data Scientist', 'Data Scientist', 'Data Engineer', 'Data Engineer', 'Data Engineer', 'Data Scientist', 'Data Analyst', 'Data Analyst', 'Data Analyst', 'Data Engineer', 'Data Engineer', 'Data Engineer', 'Data Engineer', 'Data Engineer', 'Data Engineer', 'Machine Learning Engineer', 'Machine Learning Engineer', 'Data Analyst', 'Data Analyst', 'Data Engineer', 'Data Engineer', 'Data Scientist', 'Data Engineer', 'Data Engineer', 'Data Engineer', 'Data Engineer', 'ML Engineer', 'Data Engineer', 'Machine Learning Developer', 'Director of Data Science', 'Machine Learning Engineer', 'Computer Vision Engineer', 'NLP Engineer', 'Data Engineer', 'Lead Machine Learning Engineer', 'Business Data Analyst', 'Data Scientist', 'Machine Learning Infrastructure Engineer', 'Financial Data Analyst', 'Data Engineer', 'Data Scientist', 'Principal Data Scientist', 'Data Engineer', 'Research Scientist', 'Data Scientist', 'Data Engineer', 'Data Scientist', 'Data Analyst', 'Data Analyst', 'Data Scientist', 'Data Scientist', 'Data Scientist', 'Data Scientist', 'Data Scientist', 'Machine Learning Engineer', 'Data Scientist', 'Data Scientist', 'Machine Learning Engineer', 'Machine Learning Engineer', 'Data Engineer', 'Data Engineer', 'Data Engineer', 'Machine Learning Engineer', 'Data Scientist', 'Data Scientist', 'Data Scientist', 'Applied Machine Learning Scientist', 'Head of Data', 'Principal Data Analyst', 'Data Scientist', 'Machine Learning Developer', 'Data Scientist', 'Machine Learning Scientist', 'Data Engineer', 'Data Scientist', 'Research Scientist', 'Data Scientist', 'Machine Learning Engineer', 'Head of Data', 'Data Scientist', 'Machine Learning Engineer', 'Data Engineer', 'Data Scientist', 'Applied Machine Learning Scientist', 'Research Scientist', 'Research Scientist', 'Applied Data Scientist', 'Computer Vision Software Engineer', 'Business Data Analyst', 'Data Engineer', 'Machine Learning Engineer', 'Data Analytics Engineer', 'Data Scientist', 'Data Science Manager', 'Data Engineer', 'Data Scientist', 'Applied Data Scientist', 'Data Scientist', 'Computer Vision Engineer', 'Data Analyst', 'Data Analytics Lead', 'Data Scientist', 'Applied Data Scientist', 'Data Scientist', 'Data Analyst', 'Data Analyst', 'Data Analyst', 'Data Analyst', 'Data Analyst', 'Machine Learning Engineer', 'Machine Learning Engineer', 'Data Architect', 'Data Architect', 'Data Analyst', 'Data Engineer', 'Data Scientist', 'Data Scientist', 'Data Analyst', 'Data Analyst', 'Data Engineer', 'Data Engineer', 'Data Engineer', 'Data Engineer', 'Data Engineer', 'Data Engineer', 'Data Analyst', 'Data Engineer', 'Data Scientist', 'Data Scientist', 'Data Scientist', 'Data Scientist', 'Data Engineer', 'Data Engineer', 'Data Engineer', 'Data Engineer', 'Data Scientist', 'Data Scientist', 'Analytics Engineer', 'Analytics Engineer', 'Data Engineer', 'Data Engineer', 'Data Analyst', 'Data Engineer', 'Data Analyst', 'Data Analyst', 'Data Analyst', 'Data Scientist', 'Data Scientist', 'Data Scientist', 'Data Analyst', 'Data Analyst', 'Data Scientist', 'Data Scientist', 'Data Scientist', 'Data Analyst', 'Data Engineer', 'Data Engineer', 'Data Analyst', 'Data Analyst', 'Data Engineer', 'Data Engineer', 'Data Analyst', 'Data Analyst', 'Data Analyst', 'Data Scientist', 'Data Analyst', 'Data Analyst', 'Data Architect', 'Data Architect', 'Data Scientist', 'Data Scientist', 'Data Analytics Manager', 'Data Analytics Manager', 'Data Scientist', 'Data Analyst', 'Data Scientist', 'Data Scientist', 'Data Analyst', 'Data Analyst', 'Data Engineer', 'Data Engineer', 'Data Analyst', 'Data Analyst', 'AI Scientist']\n"
     ]
    }
   ],
   "source": [
    "col_list = df.job_title.values.tolist()\n",
    "print(col_list)"
   ]
  },
  {
   "cell_type": "code",
   "execution_count": 96,
   "id": "76a26624",
   "metadata": {},
   "outputs": [
    {
     "name": "stdout",
     "output_type": "stream",
     "text": [
      "[2020 2021 2022]\n",
      "['MI' 'SE' 'EN' 'EX']\n",
      "['FT' 'CT' 'PT' 'FL']\n",
      "['Data Scientist' 'Machine Learning Scientist' 'Big Data Engineer'\n",
      " 'Product Data Analyst' 'Machine Learning Engineer' 'Data Analyst'\n",
      " 'Lead Data Scientist' 'Business Data Analyst' 'Lead Data Engineer'\n",
      " 'Lead Data Analyst' 'Data Engineer' 'Data Science Consultant'\n",
      " 'BI Data Analyst' 'Director of Data Science' 'Research Scientist'\n",
      " 'Machine Learning Manager' 'Data Engineering Manager'\n",
      " 'Machine Learning Infrastructure Engineer' 'ML Engineer' 'AI Scientist'\n",
      " 'Computer Vision Engineer' 'Principal Data Scientist'\n",
      " 'Data Science Manager' 'Head of Data' '3D Computer Vision Researcher'\n",
      " 'Data Analytics Engineer' 'Applied Data Scientist'\n",
      " 'Marketing Data Analyst' 'Cloud Data Engineer' 'Financial Data Analyst'\n",
      " 'Computer Vision Software Engineer' 'Director of Data Engineering'\n",
      " 'Data Science Engineer' 'Principal Data Engineer'\n",
      " 'Machine Learning Developer' 'Applied Machine Learning Scientist'\n",
      " 'Data Analytics Manager' 'Head of Data Science' 'Data Specialist'\n",
      " 'Data Architect' 'Finance Data Analyst' 'Principal Data Analyst'\n",
      " 'Big Data Architect' 'Staff Data Scientist' 'Analytics Engineer'\n",
      " 'ETL Developer' 'Head of Machine Learning' 'NLP Engineer'\n",
      " 'Lead Machine Learning Engineer' 'Data Analytics Lead']\n",
      "[   70000   260000    85000    20000   150000    72000   190000 11000000\n",
      "   135000   125000    45000  3000000    35000    87000     8000  4450000\n",
      "   100000   423000    56000   299000   450000    42000    98000   115000\n",
      "   325000   720000   157000    51999    60000    41000    65000   103000\n",
      "   250000    10000   138000    45760    44000   106000    88000    14000\n",
      "   188000   105000    61500    91000   300000    48000   130000    34000\n",
      "   118000   120000   138350   110000   130800    19000   412000    40000\n",
      "    55000    43200   190200    80000    37000   235000   400000   270000\n",
      "    67000   140000    68000    50000   170000    75000  1450000   276000\n",
      "  2200000    12000    81000    62000    73000    37456  2250000    82500\n",
      "    38400   225000    90000   200000     8760   151000   700000    24000\n",
      "  7000000  8500000   220000   240000    53000   153000   160000   168000\n",
      "    95000    13400   144000   159500   230000    54000   165000    51400\n",
      "   174000    58000 30400000   420000  1672000    76760    22000     4000\n",
      "    59000    74000   152000    21844    18000   120500   147000     9272\n",
      "  1799997  4000000    52000   195000    32000    69600    21000   435000\n",
      "   185000   180000  2500000    40900   416000  1200000   256000    39600\n",
      "  1600000  1335000    52500    31000   108000   600000  2100000    93000\n",
      "  1250000  4900000    21600    93150   111775    72500   102000    65720\n",
      "   112000    69999   109000   155000   120600   102100    84900   136620\n",
      "    99360   146000   123000    99000   116000   106260   126500   242000\n",
      "    30000   165220   120160    90320   181940   132320   220110   160080\n",
      "   124190   115500   112900   165400   167000   243900   136600   109280\n",
      "   128875    93700   224000   167875   175000   156600   108800    95550\n",
      "   113000   161342   137141   211500   192400    90700    61300   138600\n",
      "   136000   189650   164996   132000   208775   147800   136994   101570\n",
      "  6000000    28500   164000   145000   105400   215300   158200   209100\n",
      "   154600   115934    81666   183600    63900   112300   241000   159000\n",
      "    82900   100800   140400  1400000  2400000   148000   104890   185100\n",
      "   324000   216000   210000    29000    52800    66500    57000   121000\n",
      "   152500   380000   405000   177000    78000   214000   192600   266400\n",
      "   213120   141300   206699    99100   110500    99050   205300   176000\n",
      "   200100    70500   184700   175100   140250   116150    69000   150075\n",
      "    25000   110925   192564   144854   150260   154000   126000   129000]\n",
      "['EUR' 'USD' 'GBP' 'HUF' 'INR' 'JPY' 'CNY' 'MXN' 'CAD' 'DKK' 'PLN' 'SGD'\n",
      " 'CLP' 'BRL' 'TRY' 'AUD' 'CHF']\n",
      "[ 79833 260000 109024  20000 150000  72000 190000  35735 135000 125000\n",
      "  51321  40481  39916  87000  85000   8000  41689 114047   5707  56000\n",
      "  43331   6072  47899  98000 115000 325000  42000  33511 100000 117104\n",
      "  59303  70000  68428 450000  46759  74130 103000 250000  10000 138000\n",
      "  45760  50180 106000 112872  15966  76958 188000 105000  70139  91000\n",
      "  45896  54742  60000 148261  38776 118000 120000 138350 110000 130800\n",
      "  21669 412000  45618  62726  49268 190200  91237  42197  82528 235000\n",
      "  53192   5409 270000  80000  79197 140000  54238  47282 153667  28476\n",
      "  59102 170000  88654  76833  19609 276000  29751  89294  12000  95746\n",
      "  75000  36259  62000  73000  51519 187442  30428  94564 113476 103160\n",
      "  45391 225000  50000  40189  90000 200000 110037  10354 151000   9466\n",
      "  40570  49646  38400  24000  63711  77364 220000 240000  82500  82744\n",
      "  62649 153000 160000 168000  75774  13400 144000 127221 119059 423000\n",
      " 230000  28369  63831 130026 165000  55000  60757 174000   2859  40038\n",
      "  81000   5679  22611  90734  26005  61896   4000  69741  74000 152000\n",
      "  21844  18000  96113 147000   9272  24342  54094  61467 195000  37825\n",
      "  12901  24823  56738  66022   5882 185000  28609  46597 116914  33808\n",
      "  56256 416000  87738  71786  16228 256000 180000  63810  46809  21637\n",
      " 103691  18053  72212  36643  12103  96282 600000  28399  93000  99703\n",
      " 173762 141846 130000  16904  66265  25532  93150 111775  28016  65013\n",
      "  72500  18907  77684  58000  20171 112000  69999  94665 102839 109000\n",
      "  51064 155000 120600 102100  84900 136620  99360 117789 104702 146000\n",
      " 123000  52351  99000 116000 106260 126500 242000  65438  39263  78526\n",
      " 165220  45807 120160  90320 181940 132320 220110 160080 124190 115500\n",
      " 112900 165400 167000 243900 136600 109280 128875  93700 224000 167875\n",
      " 175000 156600 108800  95550 113000 161342 137141 211500 192400  90700\n",
      "  61300 138600 136000 189650 164996  54957 118187 132000 208775 147800\n",
      " 136994 101570  79039  37300 164000 124333  98158 145000 105400  87932\n",
      " 215300 158200 209100 154600 115934  81666 183600  71982  65949  49461\n",
      "  58894  63900 112300 241000 159000  82900 100800 140400  43966  32974\n",
      "  76940  91614  21983  78791 196979  37236  18442  31615  58255 162674\n",
      " 104890 183228 185100  65000 324000 216000 210000  31875  35590  58035\n",
      "  93427  52396  62651  40000  87425  86703  64849 157000  70912  71444\n",
      "  48000 152500  68147 122346 380000  69336 405000 177000  78000 214000\n",
      " 192600 266400 213120 141300 206699  99100 110500  99050 205300 176000\n",
      " 200100  70500 184700 175100 140250 116150  54000  69000 150075  25000\n",
      " 110925 192564 144854 150260  67000  52000 154000 126000 129000]\n",
      "['DE' 'JP' 'GB' 'HN' 'US' 'HU' 'NZ' 'FR' 'IN' 'PK' 'PL' 'PT' 'CN' 'GR'\n",
      " 'AE' 'NL' 'MX' 'CA' 'AT' 'NG' 'PH' 'ES' 'DK' 'RU' 'IT' 'HR' 'BG' 'SG'\n",
      " 'BR' 'IQ' 'VN' 'BE' 'UA' 'MT' 'CL' 'RO' 'IR' 'CO' 'MD' 'KE' 'SI' 'HK'\n",
      " 'TR' 'RS' 'PR' 'LU' 'JE' 'CZ' 'AR' 'DZ' 'TN' 'MY' 'EE' 'AU' 'BO' 'IE'\n",
      " 'CH']\n",
      "[  0  50 100]\n",
      "['DE' 'JP' 'GB' 'HN' 'US' 'HU' 'NZ' 'FR' 'IN' 'PK' 'CN' 'GR' 'AE' 'NL'\n",
      " 'MX' 'CA' 'AT' 'NG' 'ES' 'PT' 'DK' 'IT' 'HR' 'LU' 'PL' 'SG' 'RO' 'IQ'\n",
      " 'BR' 'BE' 'UA' 'IL' 'RU' 'MT' 'CL' 'IR' 'CO' 'MD' 'KE' 'SI' 'CH' 'VN'\n",
      " 'AS' 'TR' 'CZ' 'DZ' 'EE' 'MY' 'AU' 'IE']\n",
      "['L' 'S' 'M']\n",
      "[1 2 0 3]\n",
      "[3 1 2 0]\n",
      "[3 1 2]\n",
      "[1 2 0 3]\n"
     ]
    }
   ],
   "source": [
    "for col in df:\n",
    "    print(df[col].unique())"
   ]
  },
  {
   "cell_type": "markdown",
   "id": "88a993aa",
   "metadata": {},
   "source": [
    "### Visualize Data "
   ]
  },
  {
   "cell_type": "code",
   "execution_count": 65,
   "id": "83bdc9d9",
   "metadata": {},
   "outputs": [
    {
     "name": "stdout",
     "output_type": "stream",
     "text": [
      "packages has been imported!\n"
     ]
    }
   ],
   "source": [
    "import seaborn as sns\n",
    "import matplotlib.pyplot as plt\n",
    "import warnings\n",
    "import plotly.express as px\n",
    "px_template = \"simple_white\"\n",
    "\n",
    "print('packages has been imported!')"
   ]
  },
  {
   "cell_type": "code",
   "execution_count": 66,
   "id": "d493de52",
   "metadata": {},
   "outputs": [
    {
     "data": {
      "text/plain": [
       "(607, 14)"
      ]
     },
     "execution_count": 66,
     "metadata": {},
     "output_type": "execute_result"
    }
   ],
   "source": [
    "df.shape"
   ]
  },
  {
   "cell_type": "code",
   "execution_count": 67,
   "id": "c06a80c1",
   "metadata": {},
   "outputs": [
    {
     "data": {
      "text/plain": [
       "Index(['work_year', 'experience_level', 'employment_type', 'job_title',\n",
       "       'salary', 'salary_currency', 'salary_in_usd', 'employee_residence',\n",
       "       'remote_ratio', 'company_location', 'company_size', 'n_work_experience',\n",
       "       'n_employment_type', 'n_company_size'],\n",
       "      dtype='object')"
      ]
     },
     "execution_count": 67,
     "metadata": {},
     "output_type": "execute_result"
    }
   ],
   "source": [
    "df.columns"
   ]
  },
  {
   "cell_type": "code",
   "execution_count": 68,
   "id": "ce726ae5",
   "metadata": {},
   "outputs": [
    {
     "name": "stdout",
     "output_type": "stream",
     "text": [
      "<class 'pandas.core.frame.DataFrame'>\n",
      "RangeIndex: 607 entries, 0 to 606\n",
      "Data columns (total 14 columns):\n",
      " #   Column              Non-Null Count  Dtype \n",
      "---  ------              --------------  ----- \n",
      " 0   work_year           607 non-null    int64 \n",
      " 1   experience_level    607 non-null    object\n",
      " 2   employment_type     607 non-null    object\n",
      " 3   job_title           607 non-null    object\n",
      " 4   salary              607 non-null    int64 \n",
      " 5   salary_currency     607 non-null    object\n",
      " 6   salary_in_usd       607 non-null    int64 \n",
      " 7   employee_residence  607 non-null    object\n",
      " 8   remote_ratio        607 non-null    int64 \n",
      " 9   company_location    607 non-null    object\n",
      " 10  company_size        607 non-null    object\n",
      " 11  n_work_experience   607 non-null    int64 \n",
      " 12  n_employment_type   607 non-null    int64 \n",
      " 13  n_company_size      607 non-null    int64 \n",
      "dtypes: int64(7), object(7)\n",
      "memory usage: 66.5+ KB\n"
     ]
    }
   ],
   "source": [
    "df.info()"
   ]
  },
  {
   "cell_type": "code",
   "execution_count": 69,
   "id": "76fad7a5",
   "metadata": {},
   "outputs": [
    {
     "data": {
      "text/html": [
       "<div>\n",
       "<style scoped>\n",
       "    .dataframe tbody tr th:only-of-type {\n",
       "        vertical-align: middle;\n",
       "    }\n",
       "\n",
       "    .dataframe tbody tr th {\n",
       "        vertical-align: top;\n",
       "    }\n",
       "\n",
       "    .dataframe thead th {\n",
       "        text-align: right;\n",
       "    }\n",
       "</style>\n",
       "<table border=\"1\" class=\"dataframe\">\n",
       "  <thead>\n",
       "    <tr style=\"text-align: right;\">\n",
       "      <th></th>\n",
       "      <th>work_year</th>\n",
       "      <th>salary</th>\n",
       "      <th>salary_in_usd</th>\n",
       "      <th>remote_ratio</th>\n",
       "      <th>n_work_experience</th>\n",
       "      <th>n_employment_type</th>\n",
       "      <th>n_company_size</th>\n",
       "    </tr>\n",
       "  </thead>\n",
       "  <tbody>\n",
       "    <tr>\n",
       "      <th>count</th>\n",
       "      <td>607.000000</td>\n",
       "      <td>6.070000e+02</td>\n",
       "      <td>607.000000</td>\n",
       "      <td>607.00000</td>\n",
       "      <td>607.000000</td>\n",
       "      <td>607.000000</td>\n",
       "      <td>607.000000</td>\n",
       "    </tr>\n",
       "    <tr>\n",
       "      <th>mean</th>\n",
       "      <td>2021.405272</td>\n",
       "      <td>3.240001e+05</td>\n",
       "      <td>112297.869852</td>\n",
       "      <td>70.92257</td>\n",
       "      <td>1.401977</td>\n",
       "      <td>2.947282</td>\n",
       "      <td>2.189456</td>\n",
       "    </tr>\n",
       "    <tr>\n",
       "      <th>std</th>\n",
       "      <td>0.692133</td>\n",
       "      <td>1.544357e+06</td>\n",
       "      <td>70957.259411</td>\n",
       "      <td>40.70913</td>\n",
       "      <td>0.785510</td>\n",
       "      <td>0.325772</td>\n",
       "      <td>0.654021</td>\n",
       "    </tr>\n",
       "    <tr>\n",
       "      <th>min</th>\n",
       "      <td>2020.000000</td>\n",
       "      <td>4.000000e+03</td>\n",
       "      <td>2859.000000</td>\n",
       "      <td>0.00000</td>\n",
       "      <td>0.000000</td>\n",
       "      <td>0.000000</td>\n",
       "      <td>1.000000</td>\n",
       "    </tr>\n",
       "    <tr>\n",
       "      <th>25%</th>\n",
       "      <td>2021.000000</td>\n",
       "      <td>7.000000e+04</td>\n",
       "      <td>62726.000000</td>\n",
       "      <td>50.00000</td>\n",
       "      <td>1.000000</td>\n",
       "      <td>3.000000</td>\n",
       "      <td>2.000000</td>\n",
       "    </tr>\n",
       "    <tr>\n",
       "      <th>50%</th>\n",
       "      <td>2022.000000</td>\n",
       "      <td>1.150000e+05</td>\n",
       "      <td>101570.000000</td>\n",
       "      <td>100.00000</td>\n",
       "      <td>2.000000</td>\n",
       "      <td>3.000000</td>\n",
       "      <td>2.000000</td>\n",
       "    </tr>\n",
       "    <tr>\n",
       "      <th>75%</th>\n",
       "      <td>2022.000000</td>\n",
       "      <td>1.650000e+05</td>\n",
       "      <td>150000.000000</td>\n",
       "      <td>100.00000</td>\n",
       "      <td>2.000000</td>\n",
       "      <td>3.000000</td>\n",
       "      <td>3.000000</td>\n",
       "    </tr>\n",
       "    <tr>\n",
       "      <th>max</th>\n",
       "      <td>2022.000000</td>\n",
       "      <td>3.040000e+07</td>\n",
       "      <td>600000.000000</td>\n",
       "      <td>100.00000</td>\n",
       "      <td>3.000000</td>\n",
       "      <td>3.000000</td>\n",
       "      <td>3.000000</td>\n",
       "    </tr>\n",
       "  </tbody>\n",
       "</table>\n",
       "</div>"
      ],
      "text/plain": [
       "         work_year        salary  salary_in_usd  remote_ratio  \\\n",
       "count   607.000000  6.070000e+02     607.000000     607.00000   \n",
       "mean   2021.405272  3.240001e+05  112297.869852      70.92257   \n",
       "std       0.692133  1.544357e+06   70957.259411      40.70913   \n",
       "min    2020.000000  4.000000e+03    2859.000000       0.00000   \n",
       "25%    2021.000000  7.000000e+04   62726.000000      50.00000   \n",
       "50%    2022.000000  1.150000e+05  101570.000000     100.00000   \n",
       "75%    2022.000000  1.650000e+05  150000.000000     100.00000   \n",
       "max    2022.000000  3.040000e+07  600000.000000     100.00000   \n",
       "\n",
       "       n_work_experience  n_employment_type  n_company_size  \n",
       "count         607.000000         607.000000      607.000000  \n",
       "mean            1.401977           2.947282        2.189456  \n",
       "std             0.785510           0.325772        0.654021  \n",
       "min             0.000000           0.000000        1.000000  \n",
       "25%             1.000000           3.000000        2.000000  \n",
       "50%             2.000000           3.000000        2.000000  \n",
       "75%             2.000000           3.000000        3.000000  \n",
       "max             3.000000           3.000000        3.000000  "
      ]
     },
     "execution_count": 69,
     "metadata": {},
     "output_type": "execute_result"
    }
   ],
   "source": [
    "df.describe()"
   ]
  },
  {
   "cell_type": "code",
   "execution_count": 70,
   "id": "a77a8c98",
   "metadata": {},
   "outputs": [
    {
     "data": {
      "text/html": [
       "<div>\n",
       "<style scoped>\n",
       "    .dataframe tbody tr th:only-of-type {\n",
       "        vertical-align: middle;\n",
       "    }\n",
       "\n",
       "    .dataframe tbody tr th {\n",
       "        vertical-align: top;\n",
       "    }\n",
       "\n",
       "    .dataframe thead th {\n",
       "        text-align: right;\n",
       "    }\n",
       "</style>\n",
       "<table border=\"1\" class=\"dataframe\">\n",
       "  <thead>\n",
       "    <tr style=\"text-align: right;\">\n",
       "      <th></th>\n",
       "      <th>unique value count</th>\n",
       "    </tr>\n",
       "  </thead>\n",
       "  <tbody>\n",
       "    <tr>\n",
       "      <th>work_year</th>\n",
       "      <td>3</td>\n",
       "    </tr>\n",
       "    <tr>\n",
       "      <th>experience_level</th>\n",
       "      <td>4</td>\n",
       "    </tr>\n",
       "    <tr>\n",
       "      <th>employment_type</th>\n",
       "      <td>4</td>\n",
       "    </tr>\n",
       "    <tr>\n",
       "      <th>job_title</th>\n",
       "      <td>50</td>\n",
       "    </tr>\n",
       "    <tr>\n",
       "      <th>salary</th>\n",
       "      <td>272</td>\n",
       "    </tr>\n",
       "    <tr>\n",
       "      <th>salary_currency</th>\n",
       "      <td>17</td>\n",
       "    </tr>\n",
       "    <tr>\n",
       "      <th>salary_in_usd</th>\n",
       "      <td>369</td>\n",
       "    </tr>\n",
       "    <tr>\n",
       "      <th>employee_residence</th>\n",
       "      <td>57</td>\n",
       "    </tr>\n",
       "    <tr>\n",
       "      <th>remote_ratio</th>\n",
       "      <td>3</td>\n",
       "    </tr>\n",
       "    <tr>\n",
       "      <th>company_location</th>\n",
       "      <td>50</td>\n",
       "    </tr>\n",
       "    <tr>\n",
       "      <th>company_size</th>\n",
       "      <td>3</td>\n",
       "    </tr>\n",
       "    <tr>\n",
       "      <th>n_work_experience</th>\n",
       "      <td>4</td>\n",
       "    </tr>\n",
       "    <tr>\n",
       "      <th>n_employment_type</th>\n",
       "      <td>4</td>\n",
       "    </tr>\n",
       "    <tr>\n",
       "      <th>n_company_size</th>\n",
       "      <td>3</td>\n",
       "    </tr>\n",
       "  </tbody>\n",
       "</table>\n",
       "</div>"
      ],
      "text/plain": [
       "                    unique value count\n",
       "work_year                            3\n",
       "experience_level                     4\n",
       "employment_type                      4\n",
       "job_title                           50\n",
       "salary                             272\n",
       "salary_currency                     17\n",
       "salary_in_usd                      369\n",
       "employee_residence                  57\n",
       "remote_ratio                         3\n",
       "company_location                    50\n",
       "company_size                         3\n",
       "n_work_experience                    4\n",
       "n_employment_type                    4\n",
       "n_company_size                       3"
      ]
     },
     "execution_count": 70,
     "metadata": {},
     "output_type": "execute_result"
    }
   ],
   "source": [
    "unique_values = {}\n",
    "for col in df.columns:\n",
    "    unique_values[col] = df[col].value_counts().shape[0]\n",
    "\n",
    "pd.DataFrame(unique_values, index=['unique value count']).transpose()"
   ]
  },
  {
   "cell_type": "code",
   "execution_count": 71,
   "id": "596d11c8",
   "metadata": {},
   "outputs": [
    {
     "data": {
      "text/plain": [
       "work_year             0\n",
       "experience_level      0\n",
       "employment_type       0\n",
       "job_title             0\n",
       "salary                0\n",
       "salary_currency       0\n",
       "salary_in_usd         0\n",
       "employee_residence    0\n",
       "remote_ratio          0\n",
       "company_location      0\n",
       "company_size          0\n",
       "n_work_experience     0\n",
       "n_employment_type     0\n",
       "n_company_size        0\n",
       "dtype: int64"
      ]
     },
     "execution_count": 71,
     "metadata": {},
     "output_type": "execute_result"
    }
   ],
   "source": [
    "df.isnull().sum()"
   ]
  },
  {
   "cell_type": "code",
   "execution_count": 72,
   "id": "167c0325",
   "metadata": {},
   "outputs": [
    {
     "name": "stdout",
     "output_type": "stream",
     "text": [
      "Duplicate Rows :  42\n"
     ]
    },
    {
     "data": {
      "text/html": [
       "<div>\n",
       "<style scoped>\n",
       "    .dataframe tbody tr th:only-of-type {\n",
       "        vertical-align: middle;\n",
       "    }\n",
       "\n",
       "    .dataframe tbody tr th {\n",
       "        vertical-align: top;\n",
       "    }\n",
       "\n",
       "    .dataframe thead th {\n",
       "        text-align: right;\n",
       "    }\n",
       "</style>\n",
       "<table border=\"1\" class=\"dataframe\">\n",
       "  <thead>\n",
       "    <tr style=\"text-align: right;\">\n",
       "      <th></th>\n",
       "      <th>work_year</th>\n",
       "      <th>experience_level</th>\n",
       "      <th>employment_type</th>\n",
       "      <th>job_title</th>\n",
       "      <th>salary</th>\n",
       "      <th>salary_currency</th>\n",
       "      <th>salary_in_usd</th>\n",
       "      <th>employee_residence</th>\n",
       "      <th>remote_ratio</th>\n",
       "      <th>company_location</th>\n",
       "      <th>company_size</th>\n",
       "      <th>n_work_experience</th>\n",
       "      <th>n_employment_type</th>\n",
       "      <th>n_company_size</th>\n",
       "    </tr>\n",
       "  </thead>\n",
       "  <tbody>\n",
       "    <tr>\n",
       "      <th>217</th>\n",
       "      <td>2021</td>\n",
       "      <td>MI</td>\n",
       "      <td>FT</td>\n",
       "      <td>Data Scientist</td>\n",
       "      <td>76760</td>\n",
       "      <td>EUR</td>\n",
       "      <td>90734</td>\n",
       "      <td>DE</td>\n",
       "      <td>50</td>\n",
       "      <td>DE</td>\n",
       "      <td>L</td>\n",
       "      <td>1</td>\n",
       "      <td>3</td>\n",
       "      <td>3</td>\n",
       "    </tr>\n",
       "    <tr>\n",
       "      <th>256</th>\n",
       "      <td>2021</td>\n",
       "      <td>MI</td>\n",
       "      <td>FT</td>\n",
       "      <td>Data Engineer</td>\n",
       "      <td>200000</td>\n",
       "      <td>USD</td>\n",
       "      <td>200000</td>\n",
       "      <td>US</td>\n",
       "      <td>100</td>\n",
       "      <td>US</td>\n",
       "      <td>L</td>\n",
       "      <td>1</td>\n",
       "      <td>3</td>\n",
       "      <td>3</td>\n",
       "    </tr>\n",
       "    <tr>\n",
       "      <th>331</th>\n",
       "      <td>2022</td>\n",
       "      <td>SE</td>\n",
       "      <td>FT</td>\n",
       "      <td>Data Analyst</td>\n",
       "      <td>90320</td>\n",
       "      <td>USD</td>\n",
       "      <td>90320</td>\n",
       "      <td>US</td>\n",
       "      <td>100</td>\n",
       "      <td>US</td>\n",
       "      <td>M</td>\n",
       "      <td>2</td>\n",
       "      <td>3</td>\n",
       "      <td>2</td>\n",
       "    </tr>\n",
       "    <tr>\n",
       "      <th>332</th>\n",
       "      <td>2022</td>\n",
       "      <td>SE</td>\n",
       "      <td>FT</td>\n",
       "      <td>Data Analyst</td>\n",
       "      <td>112900</td>\n",
       "      <td>USD</td>\n",
       "      <td>112900</td>\n",
       "      <td>US</td>\n",
       "      <td>100</td>\n",
       "      <td>US</td>\n",
       "      <td>M</td>\n",
       "      <td>2</td>\n",
       "      <td>3</td>\n",
       "      <td>2</td>\n",
       "    </tr>\n",
       "    <tr>\n",
       "      <th>333</th>\n",
       "      <td>2022</td>\n",
       "      <td>SE</td>\n",
       "      <td>FT</td>\n",
       "      <td>Data Analyst</td>\n",
       "      <td>90320</td>\n",
       "      <td>USD</td>\n",
       "      <td>90320</td>\n",
       "      <td>US</td>\n",
       "      <td>100</td>\n",
       "      <td>US</td>\n",
       "      <td>M</td>\n",
       "      <td>2</td>\n",
       "      <td>3</td>\n",
       "      <td>2</td>\n",
       "    </tr>\n",
       "  </tbody>\n",
       "</table>\n",
       "</div>"
      ],
      "text/plain": [
       "     work_year experience_level employment_type       job_title  salary  \\\n",
       "217       2021               MI              FT  Data Scientist   76760   \n",
       "256       2021               MI              FT   Data Engineer  200000   \n",
       "331       2022               SE              FT    Data Analyst   90320   \n",
       "332       2022               SE              FT    Data Analyst  112900   \n",
       "333       2022               SE              FT    Data Analyst   90320   \n",
       "\n",
       "    salary_currency  salary_in_usd employee_residence  remote_ratio  \\\n",
       "217             EUR          90734                 DE            50   \n",
       "256             USD         200000                 US           100   \n",
       "331             USD          90320                 US           100   \n",
       "332             USD         112900                 US           100   \n",
       "333             USD          90320                 US           100   \n",
       "\n",
       "    company_location company_size  n_work_experience  n_employment_type  \\\n",
       "217               DE            L                  1                  3   \n",
       "256               US            L                  1                  3   \n",
       "331               US            M                  2                  3   \n",
       "332               US            M                  2                  3   \n",
       "333               US            M                  2                  3   \n",
       "\n",
       "     n_company_size  \n",
       "217               3  \n",
       "256               3  \n",
       "331               2  \n",
       "332               2  \n",
       "333               2  "
      ]
     },
     "execution_count": 72,
     "metadata": {},
     "output_type": "execute_result"
    }
   ],
   "source": [
    "duplicates = df[df.duplicated()]\n",
    "print(\"Duplicate Rows : \",len(duplicates))\n",
    "duplicates.head()"
   ]
  },
  {
   "cell_type": "code",
   "execution_count": 73,
   "id": "0f298165",
   "metadata": {},
   "outputs": [
    {
     "data": {
      "image/png": "[encoded data removed]",
      "text/plain": [
       "<Figure size 1440x1080 with 9 Axes>"
      ]
     },
     "metadata": {
      "needs_background": "light"
     },
     "output_type": "display_data"
    }
   ],
   "source": [
    "df.hist(figsize=(20,15));"
   ]
  },
  {
   "cell_type": "code",
   "execution_count": 74,
   "id": "10c7bf1c",
   "metadata": {},
   "outputs": [
    {
     "data": {
      "text/html": [
       "<div>\n",
       "<style scoped>\n",
       "    .dataframe tbody tr th:only-of-type {\n",
       "        vertical-align: middle;\n",
       "    }\n",
       "\n",
       "    .dataframe tbody tr th {\n",
       "        vertical-align: top;\n",
       "    }\n",
       "\n",
       "    .dataframe thead th {\n",
       "        text-align: right;\n",
       "    }\n",
       "</style>\n",
       "<table border=\"1\" class=\"dataframe\">\n",
       "  <thead>\n",
       "    <tr style=\"text-align: right;\">\n",
       "      <th></th>\n",
       "      <th>work_year</th>\n",
       "      <th>salary</th>\n",
       "      <th>salary_in_usd</th>\n",
       "      <th>remote_ratio</th>\n",
       "      <th>n_work_experience</th>\n",
       "      <th>n_employment_type</th>\n",
       "      <th>n_company_size</th>\n",
       "    </tr>\n",
       "  </thead>\n",
       "  <tbody>\n",
       "    <tr>\n",
       "      <th>work_year</th>\n",
       "      <td>1.000000</td>\n",
       "      <td>-0.087577</td>\n",
       "      <td>0.170493</td>\n",
       "      <td>0.076314</td>\n",
       "      <td>0.294759</td>\n",
       "      <td>0.094912</td>\n",
       "      <td>-0.078764</td>\n",
       "    </tr>\n",
       "    <tr>\n",
       "      <th>salary</th>\n",
       "      <td>-0.087577</td>\n",
       "      <td>1.000000</td>\n",
       "      <td>-0.083906</td>\n",
       "      <td>-0.014608</td>\n",
       "      <td>-0.027517</td>\n",
       "      <td>0.023279</td>\n",
       "      <td>0.079959</td>\n",
       "    </tr>\n",
       "    <tr>\n",
       "      <th>salary_in_usd</th>\n",
       "      <td>0.170493</td>\n",
       "      <td>-0.083906</td>\n",
       "      <td>1.000000</td>\n",
       "      <td>0.132122</td>\n",
       "      <td>0.484233</td>\n",
       "      <td>0.060042</td>\n",
       "      <td>0.151205</td>\n",
       "    </tr>\n",
       "    <tr>\n",
       "      <th>remote_ratio</th>\n",
       "      <td>0.076314</td>\n",
       "      <td>-0.014608</td>\n",
       "      <td>0.132122</td>\n",
       "      <td>1.000000</td>\n",
       "      <td>0.097784</td>\n",
       "      <td>-0.022457</td>\n",
       "      <td>-0.022070</td>\n",
       "    </tr>\n",
       "    <tr>\n",
       "      <th>n_work_experience</th>\n",
       "      <td>0.294759</td>\n",
       "      <td>-0.027517</td>\n",
       "      <td>0.484233</td>\n",
       "      <td>0.097784</td>\n",
       "      <td>1.000000</td>\n",
       "      <td>0.095847</td>\n",
       "      <td>0.063511</td>\n",
       "    </tr>\n",
       "    <tr>\n",
       "      <th>n_employment_type</th>\n",
       "      <td>0.094912</td>\n",
       "      <td>0.023279</td>\n",
       "      <td>0.060042</td>\n",
       "      <td>-0.022457</td>\n",
       "      <td>0.095847</td>\n",
       "      <td>1.000000</td>\n",
       "      <td>0.046955</td>\n",
       "    </tr>\n",
       "    <tr>\n",
       "      <th>n_company_size</th>\n",
       "      <td>-0.078764</td>\n",
       "      <td>0.079959</td>\n",
       "      <td>0.151205</td>\n",
       "      <td>-0.022070</td>\n",
       "      <td>0.063511</td>\n",
       "      <td>0.046955</td>\n",
       "      <td>1.000000</td>\n",
       "    </tr>\n",
       "  </tbody>\n",
       "</table>\n",
       "</div>"
      ],
      "text/plain": [
       "                   work_year    salary  salary_in_usd  remote_ratio  \\\n",
       "work_year           1.000000 -0.087577       0.170493      0.076314   \n",
       "salary             -0.087577  1.000000      -0.083906     -0.014608   \n",
       "salary_in_usd       0.170493 -0.083906       1.000000      0.132122   \n",
       "remote_ratio        0.076314 -0.014608       0.132122      1.000000   \n",
       "n_work_experience   0.294759 -0.027517       0.484233      0.097784   \n",
       "n_employment_type   0.094912  0.023279       0.060042     -0.022457   \n",
       "n_company_size     -0.078764  0.079959       0.151205     -0.022070   \n",
       "\n",
       "                   n_work_experience  n_employment_type  n_company_size  \n",
       "work_year                   0.294759           0.094912       -0.078764  \n",
       "salary                     -0.027517           0.023279        0.079959  \n",
       "salary_in_usd               0.484233           0.060042        0.151205  \n",
       "remote_ratio                0.097784          -0.022457       -0.022070  \n",
       "n_work_experience           1.000000           0.095847        0.063511  \n",
       "n_employment_type           0.095847           1.000000        0.046955  \n",
       "n_company_size              0.063511           0.046955        1.000000  "
      ]
     },
     "execution_count": 74,
     "metadata": {},
     "output_type": "execute_result"
    }
   ],
   "source": [
    "df.corr()"
   ]
  },
  {
   "cell_type": "code",
   "execution_count": 75,
   "id": "2759e263",
   "metadata": {},
   "outputs": [
    {
     "data": {
      "text/plain": [
       "Text(0.5, 1.0, 'correlation of feature')"
      ]
     },
     "execution_count": 75,
     "metadata": {},
     "output_type": "execute_result"
    },
    {
     "data": {
      "image/png": "[encoded data removed]",
      "text/plain": [
       "<Figure size 1440x720 with 2 Axes>"
      ]
     },
     "metadata": {
      "needs_background": "light"
     },
     "output_type": "display_data"
    }
   ],
   "source": [
    "plt.figure(figsize = (20,10))\n",
    "sns.heatmap(df.corr(),annot=True , cmap ='YlOrRd' )\n",
    "plt.title(\"correlation of feature\")"
   ]
  },
  {
   "cell_type": "code",
   "execution_count": 76,
   "id": "8b011e17",
   "metadata": {},
   "outputs": [
    {
     "data": {
      "image/png": "[encoded data removed]",
      "text/plain": [
       "<Figure size 1440x576 with 1 Axes>"
      ]
     },
     "metadata": {
      "needs_background": "light"
     },
     "output_type": "display_data"
    }
   ],
   "source": [
    "df.drop('salary_in_usd', axis=1).corrwith(df.salary_in_usd).plot(kind='bar', grid=True, figsize=(20, 8)\n",
    ", title=\"Correlation with salary in usd\",color=\"Orange\");"
   ]
  },
  {
   "cell_type": "markdown",
   "id": "29ae05b0",
   "metadata": {},
   "source": [
    "Results:\n",
    "    work experience has a high correlation with salary"
   ]
  },
  {
   "cell_type": "code",
   "execution_count": 78,
   "id": "fc6595f5",
   "metadata": {},
   "outputs": [],
   "source": [
    "df[\"experience_level_str\"]= df[\"experience_level\"].replace({\"EN\":0, \"MI\":1, \"SE\":2, \"EX\":3})"
   ]
  },
  {
   "cell_type": "code",
   "execution_count": 80,
   "id": "27fd5561",
   "metadata": {},
   "outputs": [
    {
     "data": {
      "text/plain": [
       "2    280\n",
       "1    213\n",
       "0     88\n",
       "3     26\n",
       "Name: experience_level_str, dtype: int64"
      ]
     },
     "execution_count": 80,
     "metadata": {},
     "output_type": "execute_result"
    }
   ],
   "source": [
    "df[\"experience_level_str\"].value_counts()"
   ]
  },
  {
   "cell_type": "code",
   "execution_count": 94,
   "id": "7636d8fc",
   "metadata": {},
   "outputs": [
    {
     "data": {
      "image/png": "[encoded data removed]",
      "text/plain": [
       "<Figure size 576x576 with 2 Axes>"
      ]
     },
     "metadata": {
      "needs_background": "light"
     },
     "output_type": "display_data"
    }
   ],
   "source": [
    "warnings.filterwarnings('ignore')\n",
    "\n",
    "figure, plot = plt.subplots(1,2,figsize=(8,8))\n",
    "\n",
    "sns.countplot(df['experience_level'],ax=plot[0])\n",
    "\n",
    "labels=[\"MI\",\"SE\",\"EN\",\"EX\"]\n",
    "\n",
    "plt.pie(df[\"experience_level\"].value_counts() , labels =labels ,autopct='%.02f' );\n"
   ]
  },
  {
   "cell_type": "code",
   "execution_count": 93,
   "id": "47bd2dc6",
   "metadata": {},
   "outputs": [
    {
     "data": {
      "image/png": "[encoded data removed]",
      "text/plain": [
       "<Figure size 432x288 with 1 Axes>"
      ]
     },
     "metadata": {},
     "output_type": "display_data"
    }
   ],
   "source": [
    "df[\"job_title_str\"]= df[\"job_title\"].replace({\"EN\":0, \"MI\":1, \"SE\":2, \"EX\":3})"
   ]
  },
  {
   "cell_type": "code",
   "execution_count": null,
   "id": "6d778200",
   "metadata": {},
   "outputs": [],
   "source": []
  }
 ],
 "metadata": {
  "kernelspec": {
   "display_name": "Python 3 (ipykernel)",
   "language": "python",
   "name": "python3"
  },
  "language_info": {
   "codemirror_mode": {
    "name": "ipython",
    "version": 3
   },
   "file_extension": ".py",
   "mimetype": "text/x-python",
   "name": "python",
   "nbconvert_exporter": "python",
   "pygments_lexer": "ipython3",
   "version": "3.9.12"
  }
 },
 "nbformat": 4,
 "nbformat_minor": 5
}
